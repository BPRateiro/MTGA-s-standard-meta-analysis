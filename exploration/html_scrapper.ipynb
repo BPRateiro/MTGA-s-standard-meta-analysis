{
 "cells": [
  {
   "attachments": {},
   "cell_type": "markdown",
   "metadata": {},
   "source": [
    "Setup"
   ]
  },
  {
   "cell_type": "code",
   "execution_count": 1,
   "metadata": {},
   "outputs": [],
   "source": [
    "import chromedriver_autoinstaller\n",
    "from selenium import webdriver\n",
    "from bs4 import BeautifulSoup\n",
    "\n",
    "chromedriver_autoinstaller.install()\n",
    "op = webdriver.ChromeOptions()\n",
    "op.add_argument('headless')\n",
    "driver = webdriver.Chrome(options=op)"
   ]
  },
  {
   "cell_type": "markdown",
   "metadata": {},
   "source": [
    "Scrape"
   ]
  },
  {
   "cell_type": "code",
   "execution_count": 2,
   "metadata": {},
   "outputs": [],
   "source": [
    "driver.get('https://mtga.untapped.gg/meta/cards')\n",
    "html = driver.page_source"
   ]
  },
  {
   "attachments": {},
   "cell_type": "markdown",
   "metadata": {},
   "source": [
    "HTML parsing"
   ]
  },
  {
   "cell_type": "code",
   "execution_count": 3,
   "metadata": {},
   "outputs": [
    {
     "data": {
      "text/plain": [
       "15"
      ]
     },
     "execution_count": 3,
     "metadata": {},
     "output_type": "execute_result"
    }
   ],
   "source": [
    "soup = BeautifulSoup(html, 'html.parser')\n",
    "rows = soup.find_all('div', 'sc-bAffKu cJnfLQ rc_row_content')\n",
    "len(rows)"
   ]
  },
  {
   "cell_type": "code",
   "execution_count": 4,
   "metadata": {},
   "outputs": [
    {
     "name": "stdout",
     "output_type": "stream",
     "text": [
      "<div class=\"sc-bAffKu cJnfLQ rc_row_content\" style=\"background: rgb(30, 30, 30); border-radius: 3px; overflow: hidden;\">\n",
      " <div class=\"sc-jYCGPb fNpdTV\">\n",
      "  <div class=\"CardStatsTable__CardContainer-sc-1g9bdox-10 kTPCDs\">\n",
      "   <div class=\"CardStatsTable__CardNameContainer-sc-1g9bdox-12 goGcpO\">\n",
      "    <div class=\"CardStatsTable__CardTileContainer-sc-1g9bdox-13 byvnnl\">\n",
      "     <li aria-label=\"Sheoldred, the Apocalypse\" class=\"sc-dFJtaz sc-kYrlTI lgWlQK XebZQ card-tile\" role=\"img\" style=\"color: rgb(255, 255, 255); flex-direction: column; height: 40px; width: 40px; opacity: 1;\">\n",
      "      <div class=\"sc-bsipwG guNyCl\" style=\"background: rgb(82, 81, 74); width: fit-content; border-radius: 3px; opacity: 1;\">\n",
      "       <div class=\"sc-jQbJRc hePwkC\" style=\"height: 36px; width: 36px; border-radius: 3px;\">\n",
      "        <div class=\"sc-fvhFOF bNWIBa\" style='background: url(\"https://mtgajson.untapped.gg/art/tiles/64/dmu.jpg\") -704px -320px; transform: scale(0.625);'>\n",
      "        </div>\n",
      "       </div>\n",
      "      </div>\n",
      "     </li>\n",
      "    </div>\n",
      "    <img class=\"CardStatsTable__CardImage-sc-1g9bdox-15 Cdjdd\" src=\"https://mtgajson.untapped.gg/art/crop_grpid/en/orig/dmu/82159.webp\"/>\n",
      "    <div class=\"CardStatsTable__CardRarity-sc-1g9bdox-16 joonjA\">\n",
      "    </div>\n",
      "    <div class=\"CardStatsTable__CardTypes-sc-1g9bdox-18 bOUpSX\">\n",
      "     <div class=\"sc-kEjbQP jtSnSt\">\n",
      "      <i aria-label=\"creature\" class=\"sc-GTVdH kGJmvc ms ms-creature\" role=\"img\">\n",
      "      </i>\n",
      "     </div>\n",
      "    </div>\n",
      "    <div class=\"CardStatsTable__CardInfo-sc-1g9bdox-17 cgTlfl\">\n",
      "     <span class=\"CardStatsTable__CardName-sc-1g9bdox-20 cVBMoU\">\n",
      "      Sheoldred, the Apocalypse\n",
      "     </span>\n",
      "     <div class=\"CardStatsTable__CardCost-sc-1g9bdox-19 dZXRJi\">\n",
      "      <i aria-label=\"2\" class=\"sc-GTVdH kGJmvc ms ms-2 ms-cost\" role=\"img\">\n",
      "      </i>\n",
      "      <i aria-label=\"black\" class=\"sc-GTVdH kGJmvc ms ms-b ms-cost\" role=\"img\">\n",
      "      </i>\n",
      "      <i aria-label=\"black\" class=\"sc-GTVdH kGJmvc ms ms-b ms-cost\" role=\"img\">\n",
      "      </i>\n",
      "     </div>\n",
      "    </div>\n",
      "   </div>\n",
      "  </div>\n",
      " </div>\n",
      " <div class=\"sc-jYCGPb fNpdTV\" style=\"border-left: 1px solid rgb(47, 47, 47); text-align: center;\">\n",
      "  <span class=\"CardStatsTableValue__Value-sc-1bwmo41-0 kzgjZl\" style=\"color: rgb(85, 177, 14);\">\n",
      "   52.6%\n",
      "  </span>\n",
      " </div>\n",
      " <div class=\"sc-jYCGPb fNpdTV\" style=\"border-left: 1px solid rgb(47, 47, 47); text-align: center;\">\n",
      "  <span class=\"CardStatsTableValue__Value-sc-1bwmo41-0 kzgjZl\">\n",
      "   490,000\n",
      "  </span>\n",
      " </div>\n",
      " <div class=\"sc-jYCGPb fNpdTV\" style=\"border-left: 1px solid rgb(47, 47, 47); text-align: center;\">\n",
      "  <span class=\"CardStatsTableValue__Value-sc-1bwmo41-0 kzgjZl\">\n",
      "   23.2%\n",
      "  </span>\n",
      " </div>\n",
      " <div class=\"sc-jYCGPb fNpdTV\" style=\"border-left: 1px solid rgb(47, 47, 47); text-align: center;\">\n",
      "  <span class=\"CardStatsTableValue__Value-sc-1bwmo41-0 kzgjZl\">\n",
      "   2-3\n",
      "  </span>\n",
      " </div>\n",
      "</div>\n"
     ]
    }
   ],
   "source": [
    "print(rows[4].prettify())"
   ]
  }
 ],
 "metadata": {
  "kernelspec": {
   "display_name": ".venv",
   "language": "python",
   "name": "python3"
  },
  "language_info": {
   "codemirror_mode": {
    "name": "ipython",
    "version": 3
   },
   "file_extension": ".py",
   "mimetype": "text/x-python",
   "name": "python",
   "nbconvert_exporter": "python",
   "pygments_lexer": "ipython3",
   "version": "3.11.2"
  },
  "orig_nbformat": 4
 },
 "nbformat": 4,
 "nbformat_minor": 2
}

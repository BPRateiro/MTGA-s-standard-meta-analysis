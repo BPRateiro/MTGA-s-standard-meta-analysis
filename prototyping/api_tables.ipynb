{
 "cells": [
  {
   "attachments": {},
   "cell_type": "markdown",
   "metadata": {},
   "source": [
    "Imports and endpoints"
   ]
  },
  {
   "cell_type": "code",
   "execution_count": 1,
   "metadata": {},
   "outputs": [],
   "source": [
    "from functools import lru_cache\n",
    "import requests\n",
    "import pandas as pd\n",
    "import numpy as np\n",
    "pd.set_option('display.max_columns', 100)\n",
    "from time import sleep\n",
    "\n",
    "urls = {\n",
    "    'api' : 'https://api.mtga.untapped.gg/api/v1/',\n",
    "    'json' : 'https://mtgajson.untapped.gg/v1/latest/',\n",
    "}\n",
    "\n",
    "endpoints = {\n",
    "    'active': ('api', 'meta-periods/active'),\n",
    "    'analytics': ('api', 'analytics/query/card_stats_by_archetype_event_and_scope_free/ALL?MetaPeriodId='),\n",
    "    'cards': ('json', 'cards.json'),\n",
    "    'text': ('json', 'loc_en.json'),\n",
    "}\n",
    "\n",
    "headers = {\n",
    "    'authority': 'api.mtga.untapped.gg',\n",
    "    'accept': '*/*',\n",
    "    'accept-language': 'en-US,en;q=0.9,pt;q=0.8',\n",
    "    'if-none-match': '\"047066ff947f01e9e609ca4cf0d6c0a6\"',\n",
    "    'origin': 'https://mtga.untapped.gg',\n",
    "    'referer': 'https://mtga.untapped.gg/',\n",
    "    'sec-ch-ua': '\"Google Chrome\";v=\"111\", \"Not(A:Brand\";v=\"8\", \"Chromium\";v=\"111\"',\n",
    "    'sec-ch-ua-mobile': '?0',\n",
    "    'sec-ch-ua-platform': '\"Windows\"',\n",
    "    'sec-fetch-dest': 'empty',\n",
    "    'sec-fetch-mode': 'cors',\n",
    "    'sec-fetch-site': 'same-site',\n",
    "    'user-agent': 'Mozilla/5.0 (Windows NT 10.0; Win64; x64) AppleWebKit/537.36 (KHTML, like Gecko) Chrome/111.0.0.0 Safari/537.36',\n",
    "}\n"
   ]
  },
  {
   "cell_type": "code",
   "execution_count": 2,
   "metadata": {},
   "outputs": [],
   "source": [
    "@lru_cache\n",
    "def request(keyword, send_headers=True, format=''):\n",
    "    'Returns JSON from corresponding keyword'\n",
    "    url_kw, endpoint = endpoints[keyword]\n",
    "    url = urls[url_kw]\n",
    "    \n",
    "    sleep(1) # :)\n",
    "    if send_headers:\n",
    "        return requests.get(url+endpoint+format, headers).json()\n",
    "    else:\n",
    "        return requests.get(url+endpoint+format).json()"
   ]
  },
  {
   "attachments": {},
   "cell_type": "markdown",
   "metadata": {},
   "source": [
    "Active"
   ]
  },
  {
   "cell_type": "code",
   "execution_count": 3,
   "metadata": {},
   "outputs": [
    {
     "name": "stdout",
     "output_type": "stream",
     "text": [
      "355 ['MID', 'VOW', 'NEO', 'SNC', 'DMU', 'BRO', 'ONE', 'MOM']\n"
     ]
    }
   ],
   "source": [
    "def request_active():\n",
    "    'Returns format ID and lists of standard legal sets'\n",
    "    latest = dict()\n",
    "\n",
    "    # Extracting information from the lastest standard BO1 format\n",
    "    for format in request('active'):\n",
    "        if format['event_name'] == 'Ladder':\n",
    "            latest = format\n",
    "\n",
    "    return str(latest['id']), latest['legal_sets']\n",
    "\n",
    "format_id, legal_sets = request_active()\n",
    "print(format_id, legal_sets)"
   ]
  },
  {
   "attachments": {},
   "cell_type": "markdown",
   "metadata": {},
   "source": [
    "Cards"
   ]
  },
  {
   "cell_type": "code",
   "execution_count": 4,
   "metadata": {},
   "outputs": [],
   "source": [
    "def request_cards(sets):\n",
    "    'Returns raw card dataframe'\n",
    "    df = pd.DataFrame(request('cards'))\n",
    "\n",
    "    # Ony bother with standard legal cards\n",
    "    df = df[df.set.isin(sets)]\n",
    "\n",
    "    # Remove duplicates by considering only the latest reprint\n",
    "    gb = df.groupby('titleId').agg({'grpid':'max'})\n",
    "    df = df[df.grpid.isin(gb.grpid)]\n",
    "\n",
    "    return df.set_index('grpid')\n",
    "\n",
    "raw_card = request_cards(legal_sets)"
   ]
  },
  {
   "attachments": {},
   "cell_type": "markdown",
   "metadata": {},
   "source": [
    "Text"
   ]
  },
  {
   "cell_type": "code",
   "execution_count": 5,
   "metadata": {},
   "outputs": [],
   "source": [
    "def request_text():\n",
    "    'Returns raw card text dataframe'\n",
    "    df = pd.DataFrame(request('text')).set_index('id')\n",
    "\n",
    "    # Collapse columns raw and text, prioritizing raw\n",
    "    df.loc[~df.raw.isna(), 'text'] = df.raw\n",
    "    df.drop('raw', axis='columns', inplace=True)\n",
    "\n",
    "    return df\n",
    "\n",
    "raw_text = request_text()"
   ]
  },
  {
   "attachments": {},
   "cell_type": "markdown",
   "metadata": {},
   "source": [
    "Card information"
   ]
  },
  {
   "cell_type": "code",
   "execution_count": 6,
   "metadata": {},
   "outputs": [],
   "source": [
    "def filter_raw_card(raw_card):\n",
    "    'Remove undesirable columns, change naming conventions and change index to titleId'\n",
    "    \n",
    "    # Columns to ignore and corresponding reasoning\n",
    "    ignore = [\n",
    "        'artistCredit',                  # Deemed not useful for analysis     \n",
    "        'collectorNumber',               # Deemed not useful for analysis\n",
    "        'collectorMax',                  # Deemed not useful for analysis\n",
    "        'types',                         # Aggregation from other columns\n",
    "        'subtypes',                      # Aggregation from other columns\n",
    "        'colors',                        # Aggregation from other columns\n",
    "        'colorIdentity',                 # Aggregation from other columns\n",
    "        'frameColors',                   # Deemed not useful for analysis\n",
    "        'supertypes',                    # Aggregation from other columns\n",
    "        'rawFrameDetails',               # Deemed not useful for analysis\n",
    "        'altDeckLimit',                  # Not standard relevant\n",
    "        'DigitalReleaseSet',             # Not standard relevant\n",
    "        'frameDetails',                  # Deemed not useful for analysis\n",
    "        'abilityIdToLinkedTokenGrpId',   # Not standard relevant\n",
    "        'linkedFaceType',                # Deemed not useful for analysis\n",
    "        'linkedFaces',                   # Deemed not useful for analysis\n",
    "        'usesSideboard',                 # Not standard relevant\n",
    "        'IsDigitalOnly',                 # Not standard relevant\n",
    "        'watermark',                     # Deemed not useful for analysis\n",
    "        'RebalancedCardLink',            # Deemed not useful for analysis\n",
    "        'altTitleId',                    # Deemed not useful for analysis\n",
    "        'DefunctRebalancedCardLink',     # Deemed not useful for analysis\n",
    "        'abilityIdToLinkedConjurations', # Not standard relevant\n",
    "        'grpid',                         # Obsolete, as titleId is now unique\n",
    "        'hiddenAbilities',               # Already contained in 'abilities'\n",
    "    ]\n",
    "\n",
    "    # Naming conventions\n",
    "    # raw_card.index.rename('card_id', inplace=True)\n",
    "    renamed = raw_card.rename({\n",
    "        'set':'set_id',\n",
    "        'isSecondaryCard': 'is_secondary_card',\n",
    "        'isToken': 'is_token',\n",
    "        'IsRebalanced': 'is_rebalanced',\n",
    "        'artId': 'art_id'},\n",
    "        axis = 'columns'\n",
    "    )\n",
    "\n",
    "    # Set titleId to index and drop undesirable columns\n",
    "    return renamed.reset_index().drop(ignore, axis='columns')"
   ]
  },
  {
   "cell_type": "code",
   "execution_count": 7,
   "metadata": {},
   "outputs": [],
   "source": [
    "def get_card_dataframe(df):\n",
    "    \"Returns card dataframe\"   \n",
    "\n",
    "    # Card columns mappable to text\n",
    "    id_to_text = ['titleId', 'flavorId', 'cardTypeTextId', 'subtypeTextId']\n",
    "\n",
    "    # Additional text_columns columns\n",
    "    df = df.join(\n",
    "        df[id_to_text]\n",
    "        .applymap(lambda x: raw_text.loc[x].values[0], na_action='ignore')\n",
    "        .rename(columns={column: column[:-2] for column in id_to_text}) # Remove Id\n",
    "    )\n",
    "\n",
    "    # Only tracked supertype will be 'legendary'\n",
    "    df['is_legendary'] = df.cardTypeText.str.contains('Legendary')\n",
    "\n",
    "    # Replace empty string flavor with NaN\n",
    "    df['flavor'] = df['flavor'].replace({'': np.nan})\n",
    "\n",
    "    # Define the columns and order for card dataframe\n",
    "    order = [\n",
    "        'titleId',\n",
    "        'art_id',\n",
    "        'set_id',\n",
    "        'title',\n",
    "        'rarity',\n",
    "        'power',\n",
    "        'toughness',\n",
    "        'flavor',\n",
    "        'is_legendary',\n",
    "        'is_token',\n",
    "        'is_secondary_card',\n",
    "        'is_rebalanced',\n",
    "    ]\n",
    "\n",
    "    return df[order]"
   ]
  },
  {
   "cell_type": "code",
   "execution_count": 8,
   "metadata": {},
   "outputs": [],
   "source": [
    "def get_card_type(df):\n",
    "    'Returns card type dataframe'\n",
    "    # Convert 'cardTypeTextId' to text\n",
    "    df = df.join(df.cardTypeTextId\n",
    "                   .map(lambda x: raw_text.loc[x].values[0], na_action='ignore')\n",
    "                   .rename('type'))\n",
    "    \n",
    "    # Split the text and transform into a list of rows, deleting the ones without information\n",
    "    df = df.type.str.split().explode().dropna()\n",
    "\n",
    "    # There are special cases of cards not having types such as cards 'Day' and 'Night'\n",
    "    df = df[~df.isin(['NONE', 'Legendary', 'Basic', 'Token'])]\n",
    "\n",
    "    return df"
   ]
  },
  {
   "cell_type": "code",
   "execution_count": 9,
   "metadata": {},
   "outputs": [],
   "source": [
    "def get_card_subtype(df):\n",
    "    \"Returns card subtype dataframe\"\n",
    "    # Convert 'subtypeTextId' to text\n",
    "    df = df.join(df.subtypeTextId\n",
    "                   .map(lambda x: raw_text.loc[x].values[0], na_action='ignore')\n",
    "                   .rename('subtype'))\n",
    "\n",
    "    # Split the text and transform into a list of rows, deleting the ones without information\n",
    "    df = df.subtype.str.split().explode().dropna()\n",
    "    \n",
    "    return df"
   ]
  },
  {
   "cell_type": "code",
   "execution_count": 10,
   "metadata": {},
   "outputs": [],
   "source": [
    "def get_card_cost(df):\n",
    "    \"Returns card cost dataframe\"\n",
    "    # Casting color codes in 'castingcost' column\n",
    "    casting_colors = {\n",
    "        'Black': r'oB',\n",
    "        'Blue': r'oU',\n",
    "        'Green': r'oG',\n",
    "        'Red': r'oR',\n",
    "        'White': r'oW',\n",
    "        'Multicolor': r'\\(',\n",
    "        'X': r'oX'\n",
    "    }\n",
    "\n",
    "    # Create a column for each variety\n",
    "    for color, code in casting_colors.items():\n",
    "        df[color] = df.castingcost.str.count(code)\n",
    "\n",
    "    # Special case is colorless that can be any number\n",
    "    df['Colorless'] = df.castingcost.str.extract('(\\d+)')\n",
    "\n",
    "    # Stack columns into rows and set index to card_id only\n",
    "    df = (df[['Colorless'] + list(casting_colors.keys())].stack()\n",
    "                                                         .reset_index()\n",
    "                                                         .set_index('card_id')\n",
    "                                                         .rename(columns={'level_1': 'color', 0: 'cost'}))\n",
    "\n",
    "    df.cost = pd.to_numeric(df.cost) # Convert from string to number\n",
    "\n",
    "    # Only record costs above zero\n",
    "    return df[df.cost > 0]"
   ]
  },
  {
   "cell_type": "code",
   "execution_count": 11,
   "metadata": {},
   "outputs": [],
   "source": [
    "def get_card_ability(df):\n",
    "    df = (df.abilities\n",
    "            .dropna()\n",
    "            .explode()\n",
    "            .apply(lambda x: x.get('TextId'))\n",
    "            .map(lambda x: raw_text.loc[x].values[0]))      \n",
    "    return df"
   ]
  },
  {
   "cell_type": "code",
   "execution_count": 12,
   "metadata": {},
   "outputs": [],
   "source": [
    "def get_card_information():\n",
    "    'Returns multiple dataframes containing card information after normalization'\n",
    "    filtered = filter_raw_card(raw_card)\n",
    "    card = get_card_dataframe(filtered)\n",
    "\n",
    "    # Rename 'titleId' to 'card_id' and promote it to index\n",
    "    for df in [filtered, card]:\n",
    "        df.set_index('titleId', inplace=True)\n",
    "        df.index.name = 'card_id'\n",
    "\n",
    "    card_type = get_card_type(filtered)\n",
    "    card_subtype = get_card_subtype(filtered)\n",
    "    card_cost = get_card_cost(filtered)\n",
    "    card_ability = get_card_ability(filtered)\n",
    "\n",
    "    return card, card_type, card_subtype, card_cost, card_ability\n",
    "\n",
    "card, card_type, card_subtype, card_cost, card_ability = get_card_information()"
   ]
  },
  {
   "attachments": {},
   "cell_type": "markdown",
   "metadata": {},
   "source": [
    "Analytics"
   ]
  },
  {
   "cell_type": "code",
   "execution_count": 13,
   "metadata": {},
   "outputs": [],
   "source": [
    "def request_analytics(format):\n",
    "    'Returns raw analytics dataframe'\n",
    "    json = request('analytics', False, format)\n",
    "\n",
    "    return pd.json_normalize(json['data']).T\n",
    "\n",
    "raw_analytics = request_analytics(format_id)"
   ]
  },
  {
   "cell_type": "code",
   "execution_count": 21,
   "metadata": {},
   "outputs": [],
   "source": [
    "def filter_raw_analytics():\n",
    "    # Reset index and rename tiers\n",
    "    df = (raw_analytics.reset_index()\n",
    "                       .rename(columns={'index':'raw'}))\n",
    "    \n",
    "    # Split raw column into multiple\n",
    "    df[['card_id', 'archetype_id', 'tier']] = df.raw.str.split('.', expand=True)\n",
    "\n",
    "    # Record only consolidated data by archetype and change index to titleId\n",
    "    df = (df[df.archetype_id == 'ALL']\n",
    "            .drop(['raw', 'archetype_id'], axis=1)\n",
    "            .set_index('card_id'))\n",
    "    \n",
    "    # Replace abbreviations with tier full names\n",
    "    df.replace({'b': 'Bronze',\n",
    "                's': 'Silver',\n",
    "                'g': 'Gold',\n",
    "                'p': 'Platinum'},\n",
    "               inplace = True)\n",
    "    \n",
    "    # Time stamp\n",
    "    df['timestamp'] = pd.Timestamp.today()\n",
    "\n",
    "    # Unnest statistics\n",
    "    unnest = ['games', 'wins', 'check', 'copies']\n",
    "    df[unnest] = pd.DataFrame(df.explode(0)[0].to_list(), index=df.index).iloc[:, :4]\n",
    "\n",
    "    return df[['timestamp', 'tier', 'wins', 'copies']]"
   ]
  },
  {
   "cell_type": "code",
   "execution_count": 24,
   "metadata": {},
   "outputs": [],
   "source": [
    "def get_card_tiered_daily_games(df):\n",
    "    \"Returns dataframe 'card_tiered_daily_games'\"\n",
    "    # Unnest copies\n",
    "    unnest = [1, 2, 3, 4]\n",
    "    df[unnest] = pd.DataFrame(df.copies.to_list(), index=df.index)\n",
    "\n",
    "    df = (df.reset_index()\n",
    "            .melt(id_vars = ['card_id', 'timestamp', 'tier'],\n",
    "                  value_vars = unnest,\n",
    "                  var_name = 'copies',\n",
    "                  value_name = 'games')\n",
    "            .set_index('card_id')\n",
    "            .dropna())\n",
    "    \n",
    "    return df"
   ]
  },
  {
   "cell_type": "code",
   "execution_count": 23,
   "metadata": {},
   "outputs": [],
   "source": [
    "def get_analytics():\n",
    "    \"Returns both 'card_tiered_daily_games' and 'card_tiered_daily_wins'\"\n",
    "\n",
    "    filtered = filter_raw_analytics()\n",
    "\n",
    "    card_tiered_daily_wins = filtered[['timestamp', 'tier', 'wins']]\n",
    "    card_tiered_daily_games = get_card_tiered_daily_games(filtered)\n",
    "    \n",
    "    return card_tiered_daily_wins, card_tiered_daily_games\n",
    "\n",
    "card_tiered_daily_wins, card_tiered_daily_games = get_analytics()"
   ]
  }
 ],
 "metadata": {
  "kernelspec": {
   "display_name": ".venv",
   "language": "python",
   "name": "python3"
  },
  "language_info": {
   "codemirror_mode": {
    "name": "ipython",
    "version": 3
   },
   "file_extension": ".py",
   "mimetype": "text/x-python",
   "name": "python",
   "nbconvert_exporter": "python",
   "pygments_lexer": "ipython3",
   "version": "3.11.2"
  },
  "orig_nbformat": 4
 },
 "nbformat": 4,
 "nbformat_minor": 2
}
